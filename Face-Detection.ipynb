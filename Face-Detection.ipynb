{
 "cells": [
  {
   "cell_type": "code",
   "execution_count": 12,
   "id": "875427c5-721d-49b5-95d1-d37d663ab89b",
   "metadata": {},
   "outputs": [],
   "source": [
    "#Project\n",
    "\n",
    "import cv2, glob\n",
    "gimage = glob.glob(\"*.jpg\") + glob.glob(\"*.JPG\")\n",
    "detect=cv2.CascadeClassifier('haarcascade_frontalface_default.xml')\n",
    "\n",
    "for timage in gimage:\n",
    "    image=cv2.imread(timage)\n",
    "    grayimg=cv2.cvtColor(image,cv2.COLOR_BGR2GRAY)\n",
    "    face = detect.detectMultiScale(grayimg, 1.25, 3)\n",
    "    for (x,y,w,h) in face:\n",
    "        cv2.rectangle(image, (x,y), (x+w, y+h), (0,255,0), 2)\n",
    "    cv2.imshow(\"Detect Images:\", image)\n",
    "    cv2.waitKey(2000)\n",
    "#cv2.destroyAllWindows()"
   ]
  },
  {
   "cell_type": "code",
   "execution_count": 8,
   "id": "6d58593d-d847-4675-b176-f248a49aad3e",
   "metadata": {},
   "outputs": [
    {
     "data": {
      "text/plain": [
       "\u001b[1;31mDocstring:\u001b[0m\n",
       "imshow(winname, mat) -> None\n",
       ".   @brief Displays an image in the specified window.\n",
       ".   \n",
       ".   The function imshow displays an image in the specified window. If the window was created with the\n",
       ".   cv::WINDOW_AUTOSIZE flag, the image is shown with its original size, however it is still limited by the screen resolution.\n",
       ".   Otherwise, the image is scaled to fit the window. The function may scale the image, depending on its depth:\n",
       ".   \n",
       ".   -   If the image is 8-bit unsigned, it is displayed as is.\n",
       ".   -   If the image is 16-bit unsigned, the pixels are divided by 256. That is, the\n",
       ".       value range [0,255\\*256] is mapped to [0,255].\n",
       ".   -   If the image is 32-bit or 64-bit floating-point, the pixel values are multiplied by 255. That is, the\n",
       ".       value range [0,1] is mapped to [0,255].\n",
       ".   -   32-bit integer images are not processed anymore due to ambiguouty of required transform.\n",
       ".       Convert to 8-bit unsigned matrix using a custom preprocessing specific to image's context.\n",
       ".   \n",
       ".   If window was created with OpenGL support, cv::imshow also support ogl::Buffer , ogl::Texture2D and\n",
       ".   cuda::GpuMat as input.\n",
       ".   \n",
       ".   If the window was not created before this function, it is assumed creating a window with cv::WINDOW_AUTOSIZE.\n",
       ".   \n",
       ".   If you need to show an image that is bigger than the screen resolution, you will need to call namedWindow(\"\", WINDOW_NORMAL) before the imshow.\n",
       ".   \n",
       ".   @note This function should be followed by a call to cv::waitKey or cv::pollKey to perform GUI\n",
       ".   housekeeping tasks that are necessary to actually show the given image and make the window respond\n",
       ".   to mouse and keyboard events. Otherwise, it won't display the image and the window might lock up.\n",
       ".   For example, **waitKey(0)** will display the window infinitely until any keypress (it is suitable\n",
       ".   for image display). **waitKey(25)** will display a frame and wait approximately 25 ms for a key\n",
       ".   press (suitable for displaying a video frame-by-frame). To remove the window, use cv::destroyWindow.\n",
       ".   \n",
       ".   @note [__Windows Backend Only__] Pressing Ctrl+C will copy the image to the clipboard. Pressing Ctrl+S will show a dialog to save the image.\n",
       ".   @note [__Wayland Backend Only__] Supoorting format is extended.\n",
       ".   -   If the image is 8-bit signed, the pixels are biased by 128. That is, the\n",
       ".       value range [-128,127] is mapped to [0,255].\n",
       ".   -   If the image is 16-bit signed, the pixels are divided by 256 and biased by 128. That is, the\n",
       ".       value range [-32768,32767] is mapped to [0,255].\n",
       ".   \n",
       ".   @param winname Name of the window.\n",
       ".   @param mat Image to be shown.\n",
       "\u001b[1;31mType:\u001b[0m      builtin_function_or_method"
      ]
     },
     "metadata": {},
     "output_type": "display_data"
    }
   ],
   "source": [
    "cv2.imshow()"
   ]
  },
  {
   "cell_type": "code",
   "execution_count": 9,
   "id": "103045eb-e584-4647-a7c2-e7f5ddc28086",
   "metadata": {},
   "outputs": [],
   "source": [
    "import cv2, glob\n",
    "import os"
   ]
  },
  {
   "cell_type": "code",
   "execution_count": 14,
   "id": "57fdc73f-ca62-405a-a77a-8833f40f3d14",
   "metadata": {},
   "outputs": [
    {
     "data": {
      "text/plain": [
       "'C:\\\\Windows\\\\System32'"
      ]
     },
     "execution_count": 14,
     "metadata": {},
     "output_type": "execute_result"
    }
   ],
   "source": [
    "os.getcwd()"
   ]
  },
  {
   "cell_type": "code",
   "execution_count": 15,
   "id": "efeb4080-fd0a-4cdb-8eec-8d4ca0d2780c",
   "metadata": {},
   "outputs": [
    {
     "name": "stdout",
     "output_type": "stream",
     "text": [
      "Found images: ['Original_Faces_image.jpg', 'Original_Faces_image.jpg']\n"
     ]
    }
   ],
   "source": [
    "images = glob.glob(\"*.jpg\") + glob.glob(\"*.JPG\")\n",
    "print(\"Found images:\", images)"
   ]
  },
  {
   "cell_type": "code",
   "execution_count": 27,
   "id": "8d74df6a-34c4-4b7f-b735-37717b3b2e45",
   "metadata": {},
   "outputs": [
    {
     "name": "stdout",
     "output_type": "stream",
     "text": [
      "Haar cascade loaded successfully.\n"
     ]
    }
   ],
   "source": [
    "# Load the classifier\n",
    "detect=cv2.CascadeClassifier(r'C:\\Users\\dogip\\Desktop\\haarcascade_frontalface_default.xml')\n",
    "\n",
    "# Check if it loaded properly\n",
    "if detect.empty():\n",
    "    print(\"Failed to load Haar cascade. Please check the file path.\")\n",
    "else:\n",
    "    print(\"Haar cascade loaded successfully.\")"
   ]
  },
  {
   "cell_type": "code",
   "execution_count": 24,
   "id": "f8fd7a6d-750e-4f5c-bf47-959547af759a",
   "metadata": {},
   "outputs": [
    {
     "name": "stdout",
     "output_type": "stream",
     "text": [
      "< cv2.CascadeClassifier 0000018174C8ED90>\n"
     ]
    }
   ],
   "source": [
    "print(detect)"
   ]
  },
  {
   "cell_type": "code",
   "execution_count": 25,
   "id": "94c32e51-6906-4f87-adf2-f61911688d83",
   "metadata": {},
   "outputs": [
    {
     "data": {
      "text/plain": [
       "cv2.CascadeClassifier"
      ]
     },
     "execution_count": 25,
     "metadata": {},
     "output_type": "execute_result"
    }
   ],
   "source": [
    "type(detect)"
   ]
  },
  {
   "cell_type": "code",
   "execution_count": 30,
   "id": "1717f871-e37c-4711-8942-55b76e313757",
   "metadata": {},
   "outputs": [
    {
     "name": "stdout",
     "output_type": "stream",
     "text": [
      "\n",
      "Processing image: Original_Faces_image.jpg\n",
      "Faces detected: 23\n",
      "\n",
      "Processing image: Original_Faces_image.jpg\n",
      "Faces detected: 23\n"
     ]
    }
   ],
   "source": [
    "for timage in images:\n",
    "    print(f\"\\nProcessing image: {timage}\")\n",
    "    image = cv2.imread(timage)\n",
    "    if image is None:\n",
    "        print(\"❌ Failed to load image.\")\n",
    "        continue\n",
    "    grayimg = cv2.cvtColor(image, cv2.COLOR_BGR2GRAY)\n",
    "    faces = detect.detectMultiScale(grayimg, 1.1, 5)\n",
    "    print(f\"Faces detected: {len(faces)}\")\n",
    "    for (x, y, w, h) in faces:\n",
    "        cv2.rectangle(image, (x, y), (x + w, y + h), (0, 255, 0), 2)\n",
    "    cv2.imshow(\"Detect Images\", image)\n",
    "    cv2.waitKey(10000)\n",
    "\n",
    "cv2.destroyAllWindows()"
   ]
  }
 ],
 "metadata": {
  "kernelspec": {
   "display_name": "Python 3 (ipykernel)",
   "language": "python",
   "name": "python3"
  },
  "language_info": {
   "codemirror_mode": {
    "name": "ipython",
    "version": 3
   },
   "file_extension": ".py",
   "mimetype": "text/x-python",
   "name": "python",
   "nbconvert_exporter": "python",
   "pygments_lexer": "ipython3",
   "version": "3.12.7"
  }
 },
 "nbformat": 4,
 "nbformat_minor": 5
}
